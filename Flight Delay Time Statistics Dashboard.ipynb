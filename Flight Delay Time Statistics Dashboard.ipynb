{
 "cells": [
  {
   "cell_type": "markdown",
   "id": "1c95488c-e431-42dd-9e12-8cdbe94f95c5",
   "metadata": {},
   "source": [
    "# Objectives\n",
    "<div class=\"alert alert-block alert-info\" >\n",
    "After completing the lab you will be able to:\n",
    "\n",
    "* Know how to add multiple graphs to the dashboard\n",
    "* Work with Dash Callbacks to handle multiple outputs\n",
    "</div>"
   ]
  },
  {
   "cell_type": "markdown",
   "id": "0adef748-e224-4eb8-80f9-0dc756da6581",
   "metadata": {},
   "source": [
    "## Theme\n",
    "Analyze flight delays in a dashboard.\n",
    "\n",
    "## Dashboard Components\n",
    "\n",
    "* Monthly average carrier delay by reporting airline for the given year.\n",
    "* Monthly average weather delay by reporting airline for the given year.\n",
    "* Monthly average national air system delay by reporting airline for the given year.\n",
    "* Monthly average security delay by reporting airline for the given year.\n",
    "* Monthly average late aircraft delay by reporting airline for the given year.\n",
    "\n",
    "NOTE: Year range should be between 2010 and 2020\n",
    "\n",
    "## Expected Output\n",
    "\n",
    "Below is the expected result from the lab. Our dashboard application consists of three components:\n",
    "\n",
    "* Title of the application\n",
    "* Component to enter input year\n",
    "* 5 Charts conveying the different types of flight delay. Chart section is divided into three segments.\n",
    "        * Carrier and Weather delay in the first segment\n",
    "        * National air system and Security delay in the second segment\n",
    "        * Late aircraft delay in the third segment"
   ]
  },
  {
   "cell_type": "markdown",
   "id": "bbb99e45-e1c2-41d5-b91a-2f5f289ae27e",
   "metadata": {},
   "source": [
    "## To do:\n",
    "\n",
    "* Design layout for the application.\n",
    "* Create a callback function. Add callback decorator, define inputs and outputs.\n",
    "* Review the helper function that performs computation on the provided inputs.\n",
    "* Create 5 line graphs.\n",
    "* Run the application."
   ]
  },
  {
   "cell_type": "markdown",
   "id": "f8abedc2-1b45-4d3b-8a90-d0c76493214a",
   "metadata": {},
   "source": [
    "# Downloading and Prepping Data\n",
    "\n",
    "If you are using local jupyter lab, then  add these lines in your code:"
   ]
  },
  {
   "cell_type": "code",
   "execution_count": 1,
   "id": "0661e9a2-834b-4fca-8d3c-ab7fa9803780",
   "metadata": {},
   "outputs": [
    {
     "data": {
      "text/plain": [
       "'\\n!pip install dash\\n!pip install dash==1.19.0\\n!pip install jupyter_dash\\n!pip install --upgrade plotly\\n!pip install jupyter-dash\\n'"
      ]
     },
     "execution_count": 1,
     "metadata": {},
     "output_type": "execute_result"
    }
   ],
   "source": [
    "\"\"\"\n",
    "!pip install dash\n",
    "!pip install dash==1.19.0\n",
    "!pip install jupyter_dash\n",
    "!pip install --upgrade plotly\n",
    "!pip install jupyter-dash\n",
    "\"\"\""
   ]
  },
  {
   "cell_type": "markdown",
   "id": "77c9c692-c443-40af-90bf-26b9574e22f7",
   "metadata": {},
   "source": [
    "## TASK 1 - Read the data\n",
    "\n",
    "Let's start with\n",
    "\n",
    "* Importing necessary libraries\n",
    "* Reading the data"
   ]
  },
  {
   "cell_type": "code",
   "execution_count": 2,
   "id": "d9b528a3-475d-4b04-b016-1bd7286f693d",
   "metadata": {},
   "outputs": [],
   "source": [
    "# Import required libraries\n",
    "import pandas as pd\n",
    "import plotly.graph_objects as go\n",
    "#import dash\n",
    "from jupyter_dash import JupyterDash\n",
    "import dash_html_components as html\n",
    "import dash_core_components as dcc\n",
    "import plotly.express as px\n",
    "from dash.dependencies import Input, Output\n",
    "\n",
    "# Read the airline data into pandas dataframe\n",
    "airline_data =  pd.read_csv('airline_data.csv', \n",
    "                            encoding = \"ISO-8859-1\",\n",
    "                            dtype={'Div1Airport': str, 'Div1TailNum': str, \n",
    "                                   'Div2Airport': str, 'Div2TailNum': str})"
   ]
  },
  {
   "cell_type": "markdown",
   "id": "a3aa1ea4-6625-4f4b-a440-6aa9d6e0aae9",
   "metadata": {},
   "source": [
    "## TASK 2 - Create dash application and get the layout skeleton\n",
    "\n",
    "Next, we create a skeleton for our dash application. Our dashboard application layout has three components as seen before:\n",
    "\n",
    "* Title of the application\n",
    "* Component to enter input year inside a layout division\n",
    "* 5 Charts conveying the different types of flight delay\n",
    "\n",
    "Mapping to the respective Dash HTML tags:\n",
    "\n",
    "* Title added using html.H1() tag\n",
    "* Layout division added using html.Div() and input component added using dcc.Input() tag inside the layout division.\n",
    "* 5 charts split into three segments. Each segment has a layout division added using html.Div() and chart added using dcc.Graph() tag inside the layout division."
   ]
  },
  {
   "cell_type": "code",
   "execution_count": 3,
   "id": "60d17d78-b3ef-4f8d-abaf-a1e888f0cff0",
   "metadata": {},
   "outputs": [],
   "source": [
    "# Create a dash application\n",
    "#app = dash.Dash(__name__)\n",
    "app = JupyterDash(__name__) #This line used for JupyterLab\n",
    "\n",
    "# Build dash app layout\n",
    "app.layout = html.Div(children=[ html.H1(\"Flight Delay Time Statistics\",\n",
    "                                style={'textAlign': 'center', 'color': '#503D36', 'font-size': 30}),\n",
    "                                html.Div([\"Input Year: \", dcc.Input(id=\"input-year\", value=2010, type=\"number\",\n",
    "                                                                   style={'height': 35,'font-size': 30})],\n",
    "                                style={'font-size': 30}),\n",
    "                                html.Br(),\n",
    "                                html.Br(), \n",
    "                                html.Div([\n",
    "                                        html.Div(dcc.Graph(id=\"carrier-plot\")),\n",
    "                                        html.Div(dcc.Graph(id=\"weather-plot\"))\n",
    "                                ], style={'display': 'flex'}),\n",
    "    \n",
    "                                html.Div([\n",
    "                                        html.Div(dcc.Graph(id=\"nas-plot\")),\n",
    "                                        html.Div(dcc.Graph(id=\"security-plot\"))\n",
    "                                ], style={'display': 'flex'}),\n",
    "                                \n",
    "                                html.Div(dcc.Graph(id=\"late-plot\"), style={'width':'65%'})\n",
    "                                ])"
   ]
  },
  {
   "cell_type": "markdown",
   "id": "814460c9-d186-4ea5-9e29-ce8539bfd5de",
   "metadata": {},
   "source": [
    "NOTE: We are using display as __flex__ for two outer divisions to get graphs side by side in a row."
   ]
  },
  {
   "cell_type": "markdown",
   "id": "fde3fffd-b912-4f47-a2f8-9d89a5d54691",
   "metadata": {},
   "source": [
    "## TASK 3 - Update layout components\n",
    "\n",
    "### Application title\n",
    "\n",
    "* Title as Flight Delay Time Statistics, align text as center, color as #503D36, and font size as 30.\n",
    "\n",
    "### Input component\n",
    "\n",
    "* Update dcc.Input component id as input-year, default value as 2010, and type as number. Use style parameter and assign height of the input box to be 35px and font-size to be 30.\n",
    "\n",
    "### Output component - Segment 1\n",
    "\n",
    "* Segment 1 is the first html.Div(). We have two inner division where first two graphs will be placed."
   ]
  },
  {
   "cell_type": "markdown",
   "id": "91fcd3dc-11a6-4eef-b8dc-edd382f6124d",
   "metadata": {},
   "source": [
    "## First inner division\n",
    "* Add dcc.Graph() component.\n",
    "* Update dcc.Graph component id as carrier-plot.\n",
    "\n",
    "## Second inner division\n",
    "* Add dcc.Graph() component.\n",
    "* Update dcc.Graph component id as weather-plot."
   ]
  },
  {
   "cell_type": "markdown",
   "id": "1442f005-bb3b-4726-869d-ee6196aa1f82",
   "metadata": {},
   "source": [
    "## Output component - Segment 2\n",
    "Segment 2 is the second html.Div(). We have two inner division where the next two graphs will be placed.\n",
    "\n",
    "## First inner division\n",
    "* Add dcc.Graph() component.\n",
    "* Update dcc.Graph component id as nas-plot.\n",
    "\n",
    "## Second inner division\n",
    "* Add dcc.Graph() component.\n",
    "* Update dcc.Graph component id as security-plot."
   ]
  },
  {
   "cell_type": "markdown",
   "id": "8bef4be0-3fb3-4a97-8432-70edf639899a",
   "metadata": {},
   "source": [
    "## Output component - Segment 3\n",
    "Segment 3 is the last html.Div().\n",
    "\n",
    "* Add dcc.Graph() component to the first inner division.\n",
    "* Update dcc.Graph component id as late-plot."
   ]
  },
  {
   "cell_type": "markdown",
   "id": "56c64140-9059-42d1-b797-4a7e626a190b",
   "metadata": {},
   "source": [
    "## TASK 4 - Review and add supporting function\n",
    "Below is the function that gets input year and data, perform computation for creating charts and plots.\n",
    "\n",
    "Copy the below code to the flight_delay.py script and review the structure."
   ]
  },
  {
   "cell_type": "code",
   "execution_count": 4,
   "id": "0c9e642f-b5db-44c0-bc68-39d67ddceb89",
   "metadata": {},
   "outputs": [],
   "source": [
    "\"\"\" Compute_info function description\n",
    "\n",
    "This function takes in airline data and selected year as an input and performs computation for creating charts and plots.\n",
    "\n",
    "Arguments:\n",
    "    airline_data: Input airline data.\n",
    "    entered_year: Input year for which computation needs to be performed.\n",
    "    \n",
    "Returns:\n",
    "    Computed average dataframes for carrier delay, weather delay, NAS delay, security delay, and late aircraft delay.\n",
    "\n",
    "\"\"\"\n",
    "\n",
    "def compute_info(airline_data, entered_year):\n",
    "    \n",
    "    # Select data\n",
    "    df =  airline_data[airline_data['Year']==int(entered_year)]\n",
    "    \n",
    "    # Compute delay averages\n",
    "    avg_car = df.groupby(['Month','Reporting_Airline'])['CarrierDelay'].mean().reset_index()\n",
    "    avg_weather = df.groupby(['Month','Reporting_Airline'])['WeatherDelay'].mean().reset_index()\n",
    "    avg_NAS = df.groupby(['Month','Reporting_Airline'])['NASDelay'].mean().reset_index()\n",
    "    avg_sec = df.groupby(['Month','Reporting_Airline'])['SecurityDelay'].mean().reset_index()\n",
    "    avg_late = df.groupby(['Month','Reporting_Airline'])['LateAircraftDelay'].mean().reset_index()\n",
    "    \n",
    "    return avg_car, avg_weather, avg_NAS, avg_sec, avg_late"
   ]
  },
  {
   "cell_type": "markdown",
   "id": "03762fe0-797d-408b-bc02-70fa97206723",
   "metadata": {},
   "source": [
    "## TASK 5 - Add the application callback function\n",
    "The core idea of this application is to get year as user input and update the dashboard in real-time. We will be using callback function for the same.\n",
    "\n",
    "Steps:\n",
    "\n",
    "* Define the callback decorator\n",
    "* Define the callback function that uses the input provided to perform the computation\n",
    "* Create graph and return it as an output\n",
    "* Run the application"
   ]
  },
  {
   "cell_type": "markdown",
   "id": "a244bc78-84b6-4859-ae7c-1c403d92039e",
   "metadata": {},
   "source": [
    "## TASK 6 - Update the callback function\n",
    "### Callback decorator\n",
    "\n",
    "* Refer examples provided here\n",
    "* We have 5 output components added in a list. Update output component id parameter with the ids provided in the dcc.Graph() component and set the component property as figure. One sample has been added to the skeleton.\n",
    "* Update input component id parameter with the id provided in the dcc.Input() component and component property as value.\n",
    "\n",
    "### Callback function\n",
    "Next is to update the get_graph function. We have already added a function compute_info that will perform computation on the data using the input.\n",
    "\n",
    "Mapping the returned value from the function compute_info to graph:\n",
    "\n",
    "* avg_car - input for carrier delay\n",
    "* avg_weather - input for weather delay\n",
    "* avg_NAS - input for NAS delay\n",
    "* avg_sec - input for security delay\n",
    "* avg_late - input for late aircraft delay\n",
    "Code has been provided for plotting carrier delay. Follow the same process and use the above mapping to get plots for other 4 delays.\n",
    "\n",
    "Refer here to know how your python code should look like."
   ]
  },
  {
   "cell_type": "code",
   "execution_count": 5,
   "id": "186d1414-4de6-4429-b46a-4e955733ec5a",
   "metadata": {},
   "outputs": [],
   "source": [
    "# Callback decorator\n",
    "@app.callback( [\n",
    "               Output(component_id='carrier-plot', component_property='figure'),\n",
    "               Output(component_id='weather-plot', component_property='figure'),\n",
    "               Output(component_id='nas-plot', component_property='figure'), \n",
    "               Output(component_id='security-plot', component_property='figure'),\n",
    "               Output(component_id='late-plot', component_property='figure')\n",
    "               ],\n",
    "               Input(component_id='input-year', component_property='value'))\n",
    "# Computation to callback function and return graph\n",
    "def get_graph(entered_year):\n",
    "    \n",
    "    # Compute required information for creating graph from the data\n",
    "    avg_car, avg_weather, avg_NAS, avg_sec, avg_late = compute_info(airline_data, entered_year)\n",
    "            \n",
    "    # Line plot for carrier delay\n",
    "    carrier_fig = px.line(avg_car, x='Month', y='CarrierDelay', color='Reporting_Airline', title='Average carrier delay time (minutes) by airline')\n",
    "    \n",
    "    # Line plot for weather delay\n",
    "    weather_fig = px.line(avg_weather, x='Month', y='WeatherDelay', color='Reporting_Airline', title='Average weather delay time (minutes) by airline')\n",
    "    \n",
    "    # Line plot for nas delay\n",
    "    nas_fig = px.line(avg_NAS, x='Month', y='NASDelay', color='Reporting_Airline', title='Average NAS delay time (minutes) by airline')\n",
    "    \n",
    "    # Line plot for security delay\n",
    "    sec_fig = px.line(avg_sec, x='Month', y='SecurityDelay', color='Reporting_Airline', title='Average security delay time (minutes) by airline')\n",
    "    \n",
    "    # Line plot for late aircraft delay\n",
    "    late_fig = px.line(avg_late, x='Month', y='LateAircraftDelay', color='Reporting_Airline', title='Average late aircraft delay time (minutes) by airline')\n",
    "            \n",
    "    return[carrier_fig, weather_fig, nas_fig, sec_fig, late_fig]\n",
    "\n",
    "# Run the app\n",
    "if __name__ == '__main__':\n",
    "    # Run app and display result inline in the notebook\n",
    "    #app.run_server(mode='inline')\n",
    "    \n",
    "    #For JupyterLab\n",
    "    app.run_server(mode='jupyterlab', port = 8090, dev_tools_ui=True, debug=True,dev_tools_hot_reload =True, threaded=True)"
   ]
  },
  {
   "cell_type": "markdown",
   "id": "5628fc94-b483-430b-9f0d-9cb5fb3ce362",
   "metadata": {},
   "source": [
    "Later in the browser address bar use this\n",
    "\n",
    "http://localhost:8090"
   ]
  },
  {
   "cell_type": "markdown",
   "id": "26612d1f-1cd8-415e-acd4-67e0da42315e",
   "metadata": {},
   "source": [
    "## Congratulations, you have successfully created your dash application!"
   ]
  },
  {
   "cell_type": "code",
   "execution_count": null,
   "id": "41021666-566f-418a-83a9-dbf8510ad515",
   "metadata": {},
   "outputs": [],
   "source": []
  }
 ],
 "metadata": {
  "kernelspec": {
   "display_name": "Python 3 (ipykernel)",
   "language": "python",
   "name": "python3"
  },
  "language_info": {
   "codemirror_mode": {
    "name": "ipython",
    "version": 3
   },
   "file_extension": ".py",
   "mimetype": "text/x-python",
   "name": "python",
   "nbconvert_exporter": "python",
   "pygments_lexer": "ipython3",
   "version": "3.9.12"
  }
 },
 "nbformat": 4,
 "nbformat_minor": 5
}
